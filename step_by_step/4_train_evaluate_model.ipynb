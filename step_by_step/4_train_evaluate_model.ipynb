{
 "cells": [
  {
   "cell_type": "markdown",
   "metadata": {},
   "source": [
    "# 训练并评估模型"
   ]
  },
  {
   "cell_type": "code",
   "execution_count": 2,
   "metadata": {},
   "outputs": [],
   "source": [
    "import tensorflow as tf\n",
    "from tensorflow import keras\n",
    "\n",
    "# load image datas used for trainning\n",
    "fashion_mnist = keras.datasets.fashion_mnist\n",
    "(train_images, train_labels), (test_images, test_labels) = fashion_mnist.load_data()"
   ]
  },
  {
   "cell_type": "code",
   "execution_count": 3,
   "metadata": {},
   "outputs": [],
   "source": [
    "model = keras.Sequential()\n",
    "#输入层:输入数据的 shape 28x28 尺寸的图形\n",
    "model.add(keras.layers.Flatten(input_shape = (28, 28)))\n",
    "#中间层:128个神经元, 并指定 激活函数为 relu()\n",
    "model.add(keras.layers.Dense(128, activation = tf.nn.relu))\n",
    "#输出层:10个类别(神经元), 并指定激活函数为 softmax()\n",
    "model.add(keras.layers.Dense(10, activation = tf.nn.softmax))"
   ]
  },
  {
   "cell_type": "code",
   "execution_count": 4,
   "metadata": {},
   "outputs": [],
   "source": [
    "# 模型的样子\n",
    "# 28 * 28 = 784pixels\n",
    "# 784pixels * 128 neurons = 100352\n",
    "# (784 + 1bias) * 128 = 100480\n",
    "# (128 + 1) * 10 = 1290\n",
    "# model.summary()"
   ]
  },
  {
   "cell_type": "code",
   "execution_count": 5,
   "metadata": {},
   "outputs": [
    {
     "name": "stdout",
     "output_type": "stream",
     "text": [
      "Train on 60000 samples\n",
      "Epoch 1/5\n",
      "60000/60000 [==============================] - 5s 91us/sample - loss: 0.5003 - accuracy: 0.8240\n",
      "Epoch 2/5\n",
      "60000/60000 [==============================] - 7s 112us/sample - loss: 0.3759 - accuracy: 0.8643\n",
      "Epoch 3/5\n",
      "60000/60000 [==============================] - 6s 102us/sample - loss: 0.3362 - accuracy: 0.8781\n",
      "Epoch 4/5\n",
      "60000/60000 [==============================] - 5s 84us/sample - loss: 0.3122 - accuracy: 0.8861\n",
      "Epoch 5/5\n",
      "60000/60000 [==============================] - 6s 93us/sample - loss: 0.2942 - accuracy: 0.8919\n"
     ]
    },
    {
     "data": {
      "text/plain": [
       "<tensorflow.python.keras.callbacks.History at 0x26cb86970c8>"
      ]
     },
     "execution_count": 5,
     "metadata": {},
     "output_type": "execute_result"
    }
   ],
   "source": [
    "# train\n",
    "# 使 train data 转化为 0~1 之间的数据, 有助于提高训练效果\n",
    "train_images=train_images/255\n",
    "\n",
    "# 指定 优化方法  loss_function  并显示精度\n",
    "# adam 优化方法是很常用的, 尤其当输出结果是类别 类别判断\n",
    "# sparse_categorical_crossentropy or categorical_crossentropy\n",
    "# train_labels[0] 这种 只有整数的  train_data, 并且只有一个数据是1, 另特别称为 one-hot,类别为1\n",
    "#model.compile(optimizer='adam', loss=tf.losses.sparse_categorical_crossentropy, metrics=['accuracy'])\n",
    "model.compile(optimizer=tf.optimizers.Adam(), loss=tf.losses.sparse_categorical_crossentropy, metrics=['accuracy'])\n",
    "\n",
    "# start trainning, 5 times\n",
    "model.fit(train_images, train_labels, epochs=5)"
   ]
  },
  {
   "cell_type": "code",
   "execution_count": 5,
   "metadata": {},
   "outputs": [
    {
     "name": "stdout",
     "output_type": "stream",
     "text": [
      "10000/10000 [==============================] - ETA: 0s - loss: 0.3670 - accuracy: 0.86 - 0s 43us/sample - loss: 0.3650 - accuracy: 0.8699\n"
     ]
    },
    {
     "data": {
      "text/plain": [
       "[0.36495736770629883, 0.8699]"
      ]
     },
     "execution_count": 5,
     "metadata": {},
     "output_type": "execute_result"
    }
   ],
   "source": [
    "# evaluate model\n",
    "test_images_scaled=test_images/255 # 因为上面的train_images / 255 了\n",
    "model.evaluate(test_images_scaled, test_labels)\n",
    "\n",
    "# 对比train的loss & accuracy, evaluate得到的 loss & accuracy 都有所降低\n",
    "# 但相差不大, 说明 train 的效果还可以"
   ]
  },
  {
   "cell_type": "markdown",
   "metadata": {},
   "source": [
    "## 预测\n",
    "0:T-shirt/top\n",
    "1:Trouser/pants\n",
    "2:Pullover shirt\n",
    "3:Dress\n",
    "4:coat\n",
    "5:Sandai\n",
    "6:Shirt\n",
    "7:Sneaker\n",
    "8:Bag\n",
    "9:Ankie boot"
   ]
  },
  {
   "cell_type": "code",
   "execution_count": 6,
   "metadata": {},
   "outputs": [
    {
     "data": {
      "text/plain": [
       "array([[4.9066234e-06, 4.8823644e-08, 1.5799533e-07, 1.2243399e-07,\n",
       "        6.0317944e-07, 2.6812049e-04, 2.8692391e-06, 4.1726489e-02,\n",
       "        8.3289742e-05, 9.5791346e-01]], dtype=float32)"
      ]
     },
     "execution_count": 6,
     "metadata": {},
     "output_type": "execute_result"
    }
   ],
   "source": [
    "# 预测第一张图片的类别\n",
    "#外围的[]是输入参数的类型要求\n",
    "model.predict([[test_images[0]/255]])"
   ]
  },
  {
   "cell_type": "markdown",
   "metadata": {},
   "source": [
    "可见输出结果并不是很直观,但是数值最大的元素那一项即是预测值.\n",
    "我们可以用 `numpy` 来使得结果更加直观."
   ]
  },
  {
   "cell_type": "code",
   "execution_count": 8,
   "metadata": {},
   "outputs": [
    {
     "name": "stdout",
     "output_type": "stream",
     "text": [
      "predict label:  9\n",
      "real label:  9\n",
      "show image:\n"
     ]
    },
    {
     "data": {
      "text/plain": [
       "<matplotlib.image.AxesImage at 0x26cd32bc748>"
      ]
     },
     "execution_count": 8,
     "metadata": {},
     "output_type": "execute_result"
    },
    {
     "data": {
      "image/png": "[encoded data removed]",
      "text/plain": [
       "<Figure size 432x288 with 1 Axes>"
      ]
     },
     "metadata": {
      "needs_background": "light"
     },
     "output_type": "display_data"
    }
   ],
   "source": [
    "import numpy as np\n",
    "import matplotlib.pyplot as plt\n",
    "print(\"predict label: \", np.argmax(model.predict([[test_images[0]/255]])))\n",
    "print(\"real label: \", test_labels[0])\n",
    "\n",
    "print(\"show image:\")\n",
    "plt.imshow(test_images[0])"
   ]
  }
 ],
 "metadata": {
  "kernelspec": {
   "display_name": "Python [conda env:.conda-tf2]",
   "language": "python",
   "name": "conda-env-.conda-tf2-py"
  },
  "language_info": {
   "codemirror_mode": {
    "name": "ipython",
    "version": 3
   },
   "file_extension": ".py",
   "mimetype": "text/x-python",
   "name": "python",
   "nbconvert_exporter": "python",
   "pygments_lexer": "ipython3",
   "version": "3.7.8"
  }
 },
 "nbformat": 4,
 "nbformat_minor": 4
}
