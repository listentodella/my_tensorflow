{
 "cells": [
  {
   "cell_type": "code",
   "execution_count": 1,
   "metadata": {},
   "outputs": [],
   "source": [
    "import tensorflow as tf\n",
    "from tensorflow import keras\n",
    "\n",
    "# load image datas used for trainning\n",
    "fashion_mnist = keras.datasets.fashion_mnist\n",
    "(train_images, train_labels), (test_images, test_labels) = fashion_mnist.load_data()"
   ]
  },
  {
   "cell_type": "code",
   "execution_count": 2,
   "metadata": {},
   "outputs": [],
   "source": [
    "model = keras.Sequential()\n",
    "#输入层:输入数据的 shape 28x28 尺寸的图形\n",
    "model.add(keras.layers.Flatten(input_shape = (28, 28)))\n",
    "#中间层:128个神经元, 并指定 激活函数为 relu()\n",
    "model.add(keras.layers.Dense(128, activation = tf.nn.relu))\n",
    "#输出层:10个类别(神经元), 并指定激活函数为 softmax()\n",
    "model.add(keras.layers.Dense(10, activation = tf.nn.softmax))"
   ]
  },
  {
   "cell_type": "code",
   "execution_count": 7,
   "metadata": {},
   "outputs": [],
   "source": [
    "# 模型的样子\n",
    "# 28 * 28 = 784pixels\n",
    "# 784pixels * 128 neurons = 100352\n",
    "# (784 + 1bias) * 128 = 100480\n",
    "# (128 + 1) * 10 = 1290\n",
    "# model.summary()"
   ]
  },
  {
   "cell_type": "code",
   "execution_count": 3,
   "metadata": {},
   "outputs": [
    {
     "name": "stdout",
     "output_type": "stream",
     "text": [
      "Train on 60000 samples\n",
      "Epoch 1/5\n",
      "60000/60000 [==============================] - 5s 75us/sample - loss: 0.4980 - accuracy: 0.8256\n",
      "Epoch 2/5\n",
      "60000/60000 [==============================] - 4s 69us/sample - loss: 0.3744 - accuracy: 0.8658\n",
      "Epoch 3/5\n",
      "60000/60000 [==============================] - 4s 64us/sample - loss: 0.3369 - accuracy: 0.8774\n",
      "Epoch 4/5\n",
      "60000/60000 [==============================] - 4s 71us/sample - loss: 0.3113 - accuracy: 0.8853\n",
      "Epoch 5/5\n",
      "60000/60000 [==============================] - 4s 72us/sample - loss: 0.2936 - accuracy: 0.8923\n"
     ]
    },
    {
     "data": {
      "text/plain": [
       "<tensorflow.python.keras.callbacks.History at 0x1f703cdad48>"
      ]
     },
     "execution_count": 3,
     "metadata": {},
     "output_type": "execute_result"
    }
   ],
   "source": [
    "# train\n",
    "# 使 train data 转化为 0~1 之间的数据, 有助于提高训练效果\n",
    "train_images=train_images/255\n",
    "\n",
    "# 指定 优化方法  loss_function  并显示精度\n",
    "# adam 优化方法是很常用的, 尤其当输出结果是类别 类别判断\n",
    "# sparse_categorical_crossentropy or categorical_crossentropy\n",
    "# train_labels[0] 这种 只有整数的  train_data, 并且只有一个数据是1, 另特别称为 one-hot,类别为1\n",
    "#model.compile(optimizer='adam', loss=tf.losses.sparse_categorical_crossentropy, metrics=['accuracy'])\n",
    "model.compile(optimizer=tf.optimizers.Adam(), loss=tf.losses.sparse_categorical_crossentropy, metrics=['accuracy'])\n",
    "\n",
    "# start trainning, 5 times\n",
    "model.fit(train_images, train_labels, epochs=5)"
   ]
  },
  {
   "cell_type": "code",
   "execution_count": 5,
   "metadata": {},
   "outputs": [
    {
     "name": "stdout",
     "output_type": "stream",
     "text": [
      "10000/10000 [==============================] - ETA: 0s - loss: 0.3670 - accuracy: 0.86 - 0s 43us/sample - loss: 0.3650 - accuracy: 0.8699\n"
     ]
    },
    {
     "data": {
      "text/plain": [
       "[0.36495736770629883, 0.8699]"
      ]
     },
     "execution_count": 5,
     "metadata": {},
     "output_type": "execute_result"
    }
   ],
   "source": [
    "# evaluate model\n",
    "test_images_scaled=test_images/255 # 因为上面的train_images / 255 了\n",
    "model.evaluate(test_images_scaled, test_labels)\n",
    "\n",
    "# 对比train的loss & accuracy, evaluate得到的 loss & accuracy 都有所降低\n",
    "# 但相差不大, 说明 train 的效果还可以"
   ]
  }
 ],
 "metadata": {
  "kernelspec": {
   "display_name": "Python [conda env:.conda-tf2]",
   "language": "python",
   "name": "conda-env-.conda-tf2-py"
  },
  "language_info": {
   "codemirror_mode": {
    "name": "ipython",
    "version": 3
   },
   "file_extension": ".py",
   "mimetype": "text/x-python",
   "name": "python",
   "nbconvert_exporter": "python",
   "pygments_lexer": "ipython3",
   "version": "3.7.8"
  }
 },
 "nbformat": 4,
 "nbformat_minor": 4
}
