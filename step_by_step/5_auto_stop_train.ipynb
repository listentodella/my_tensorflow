{
 "cells": [
  {
   "source": [
    "# Auto-Stop-Train 自动终止训练\n",
    "训练次数并不是越多越好, 过多会导致 **过拟合(Overfitting)**。神经元网络也许可以记住所有的图片,但是对于识别分类新的图片反而可能会变差。\n",
    "\n",
    "当测试Loss 和 训练Loss 出现分叉时, 说明发生了 过拟合。\n",
    "\n",
    "![image.png](overfitting.png)\n",
    "\n",
    "`tf.keras` 提供了`Callback`  来根据某些条件来终止训练。\n",
    "可在 https://tensorflow.google.cn/api_docs/python/tf/keras/callbacks/Callback?hl=en 里查阅`keras`的`API`。"
   ],
   "cell_type": "code",
   "metadata": {},
   "execution_count": null,
   "outputs": []
  },
  {
   "cell_type": "code",
   "execution_count": 11,
   "metadata": {},
   "outputs": [
    {
     "name": "stdout",
     "output_type": "stream",
     "text": [
      "Train on 60000 samples\n",
      "Epoch 1/100\n",
      "59712/60000 [============================>.] - ETA: 0s - loss: 0.4760 - accuracy: 0.8281\n",
      " Loss is high, can train agin\n",
      "60000/60000 [==============================] - 9s 147us/sample - loss: 0.4757 - accuracy: 0.8281\n",
      "Epoch 2/100\n",
      "59744/60000 [============================>.] - ETA: 0s - loss: 0.3600 - accuracy: 0.8686\n",
      " Loss is high, can train agin\n",
      "60000/60000 [==============================] - 8s 133us/sample - loss: 0.3598 - accuracy: 0.8686\n",
      "Epoch 3/100\n",
      "59680/60000 [============================>.] - ETA: 0s - loss: 0.3250 - accuracy: 0.8803\n",
      " Loss is high, can train agin\n",
      "60000/60000 [==============================] - 8s 140us/sample - loss: 0.3255 - accuracy: 0.8802\n",
      "Epoch 4/100\n",
      "59904/60000 [============================>.] - ETA: 0s - loss: 0.2986 - accuracy: 0.8892\n",
      " Loss is high, can train agin\n",
      "60000/60000 [==============================] - 8s 141us/sample - loss: 0.2986 - accuracy: 0.8892\n",
      "Epoch 5/100\n",
      "59904/60000 [============================>.] - ETA: 0s - loss: 0.2794 - accuracy: 0.8958\n",
      " Loss is high, can train agin\n",
      "60000/60000 [==============================] - 9s 148us/sample - loss: 0.2794 - accuracy: 0.8958\n",
      "Epoch 6/100\n",
      "59904/60000 [============================>.] - ETA: 0s - loss: 0.2652 - accuracy: 0.9010\n",
      " Loss is high, can train agin\n",
      "60000/60000 [==============================] - 9s 147us/sample - loss: 0.2650 - accuracy: 0.9011\n",
      "Epoch 7/100\n",
      "59712/60000 [============================>.] - ETA: 0s - loss: 0.2547 - accuracy: 0.9053\n",
      " Loss is high, can train agin\n",
      "60000/60000 [==============================] - 9s 142us/sample - loss: 0.2548 - accuracy: 0.9053\n",
      "Epoch 8/100\n",
      "59712/60000 [============================>.] - ETA: 0s - loss: 0.2421 - accuracy: 0.9088\n",
      " Loss is high, can train agin\n",
      "60000/60000 [==============================] - 9s 149us/sample - loss: 0.2422 - accuracy: 0.9086\n",
      "Epoch 9/100\n",
      "59904/60000 [============================>.] - ETA: 0s - loss: 0.2308 - accuracy: 0.9138\n",
      " Loss is high, can train agin\n",
      "60000/60000 [==============================] - 9s 144us/sample - loss: 0.2306 - accuracy: 0.9139\n",
      "Epoch 10/100\n",
      "59808/60000 [============================>.] - ETA: 0s - loss: 0.2232 - accuracy: 0.9156\n",
      " Loss is high, can train agin\n",
      "60000/60000 [==============================] - 9s 157us/sample - loss: 0.2232 - accuracy: 0.9156\n",
      "Epoch 11/100\n",
      "59808/60000 [============================>.] - ETA: 0s - loss: 0.2163 - accuracy: 0.9185\n",
      " Loss is high, can train agin\n",
      "60000/60000 [==============================] - 9s 147us/sample - loss: 0.2161 - accuracy: 0.9186\n",
      "Epoch 12/100\n",
      "59808/60000 [============================>.] - ETA: 0s - loss: 0.2050 - accuracy: 0.9224\n",
      " Loss is high, can train agin\n",
      "60000/60000 [==============================] - 9s 149us/sample - loss: 0.2050 - accuracy: 0.9224\n",
      "Epoch 13/100\n",
      "59936/60000 [============================>.] - ETA: 0s - loss: 0.1980 - accuracy: 0.9262\n",
      " Loss is low enough, so stop training!\n",
      "60000/60000 [==============================] - 9s 143us/sample - loss: 0.1982 - accuracy: 0.9261\n"
     ]
    },
    {
     "data": {
      "text/plain": [
       "<tensorflow.python.keras.callbacks.History at 0x1f70760af88>"
      ]
     },
     "execution_count": 11,
     "metadata": {},
     "output_type": "execute_result"
    }
   ],
   "source": [
    "import tensorflow as tf\n",
    "from tensorflow import keras\n",
    "\n",
    "class myCallback(tf.keras.callbacks.Callback):\n",
    "    def on_epoch_end(self, epoch, logs={}):\n",
    "        if (logs.get('loss') < 0.2):\n",
    "            print(\"\\n Loss is low enough, so stop training!\")\n",
    "            self.model.stop_training = True\n",
    "        else:\n",
    "            print(\"\\n Loss is high, can train agin\")\n",
    "            self.model.stop_training = False\n",
    "\n",
    "my_cb = myCallback()\n",
    "# load image datas used for training\n",
    "fashion_mnist = keras.datasets.fashion_mnist\n",
    "(train_images, train_labels), (test_images, test_labels) = fashion_mnist.load_data()\n",
    "\n",
    "# scale train data to improve effects of training, test_images_scaled because of train_images scaled\n",
    "train_images_scaled = train_images / 255.0\n",
    "test_images_scaled = test_images / 255.0\n",
    "\n",
    "# 建立神经元网络模型\n",
    "#输入层:\n",
    "#中间层:512个神经元, 并指定 激活函数为 relu()\n",
    "#输出层:10个类别(神经元), 并指定激活函数为 softmax()\n",
    "model = tf.keras.Sequential([\n",
    "    tf.keras.layers.Flatten(),\n",
    "    tf.keras.layers.Dense(512, activation=tf.nn.relu),\n",
    "    tf.keras.layers.Dense(10, activation=tf.nn.softmax)\n",
    "])\n",
    "\n",
    "# 指定优化函数 loss 并显示每次训练完成后的精度\n",
    "model.compile(optimizer='adam', loss='sparse_categorical_crossentropy', metrics=['accuracy'])\n",
    "\n",
    "# start training\n",
    "model.fit(train_images_scaled, train_labels, epochs=100, callbacks=[my_cb])\n"
   ]
  },
  {
   "cell_type": "markdown",
   "metadata": {},
   "source": [
    "## Result\n",
    "由上面的结果可知,每次训练结束,都会调用 `callback`, 并依据`callback`中的条件来决定是否要停止训练(通过设置`self.model.stop_training = True`)。\n",
    "值得一提的是, 如果训练次数达到设置的次数之后, 条件还未满足, 训练当然也会停止哒!"
   ]
  }
 ],
 "metadata": {
  "kernelspec": {
   "display_name": "Python [conda env:.conda-tf2]",
   "language": "python",
   "name": "conda-env-.conda-tf2-py"
  },
  "language_info": {
   "codemirror_mode": {
    "name": "ipython",
    "version": 3
   },
   "file_extension": ".py",
   "mimetype": "text/x-python",
   "name": "python",
   "nbconvert_exporter": "python",
   "pygments_lexer": "ipython3",
   "version": "3.7.8"
  }
 },
 "nbformat": 4,
 "nbformat_minor": 4
}